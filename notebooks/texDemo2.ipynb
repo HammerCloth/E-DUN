{
 "cells": [
  {
   "cell_type": "code",
   "execution_count": null,
   "metadata": {
    "collapsed": true
   },
   "outputs": [],
   "source": []
  },
  {
   "cell_type": "code",
   "execution_count": 1,
   "outputs": [
    {
     "data": {
      "text/plain": "<torch._C.Generator at 0x11701b570>"
     },
     "execution_count": 1,
     "metadata": {},
     "output_type": "execute_result"
    }
   ],
   "source": [
    "%matplotlib inline\n",
    "from matplotlib import pyplot as plt\n",
    "import numpy as np\n",
    "import collections\n",
    "\n",
    "import torch\n",
    "import torch.nn as nn\n",
    "import torch.nn.functional as F\n",
    "import torch.optim as optim\n",
    "\n",
    "torch.set_printoptions(edgeitems=2)\n",
    "torch.manual_seed(123)"
   ],
   "metadata": {
    "collapsed": false
   }
  },
  {
   "cell_type": "code",
   "execution_count": 2,
   "outputs": [
    {
     "name": "stdout",
     "output_type": "stream",
     "text": [
      "Files already downloaded and verified\n"
     ]
    }
   ],
   "source": [
    "from torchvision import datasets, transforms\n",
    "data_path = '../data'\n",
    "cifar10 = datasets.CIFAR10(\n",
    "    data_path, train=True, download=True,\n",
    "    transform=transforms.Compose([\n",
    "        transforms.ToTensor(),\n",
    "        transforms.Normalize((0.4915, 0.4823, 0.4468),\n",
    "                             (0.2470, 0.2435, 0.2616))\n",
    "    ]))"
   ],
   "metadata": {
    "collapsed": false
   }
  },
  {
   "cell_type": "markdown",
   "source": [
    "取十张照片作为一个图集"
   ],
   "metadata": {
    "collapsed": false
   }
  },
  {
   "cell_type": "code",
   "execution_count": 14,
   "outputs": [
    {
     "data": {
      "text/plain": "torch.Size([3, 32, 32])"
     },
     "execution_count": 14,
     "metadata": {},
     "output_type": "execute_result"
    }
   ],
   "source": [
    "cifar10[0][0].shape"
   ],
   "metadata": {
    "collapsed": false
   }
  },
  {
   "cell_type": "code",
   "execution_count": 15,
   "outputs": [
    {
     "data": {
      "text/plain": "10"
     },
     "execution_count": 15,
     "metadata": {},
     "output_type": "execute_result"
    }
   ],
   "source": [
    "img_list = torch.ones(10,3,32,32)\n",
    "for i in range(10):\n",
    "    img_list[i]=cifar10[i][0]\n",
    "len(img_list)"
   ],
   "metadata": {
    "collapsed": false
   }
  },
  {
   "cell_type": "code",
   "execution_count": 21,
   "outputs": [
    {
     "name": "stderr",
     "output_type": "stream",
     "text": [
      "Clipping input data to the valid range for imshow with RGB data ([0..1] for floats or [0..255] for integers).\n",
      "Clipping input data to the valid range for imshow with RGB data ([0..1] for floats or [0..255] for integers).\n",
      "Clipping input data to the valid range for imshow with RGB data ([0..1] for floats or [0..255] for integers).\n",
      "Clipping input data to the valid range for imshow with RGB data ([0..1] for floats or [0..255] for integers).\n",
      "Clipping input data to the valid range for imshow with RGB data ([0..1] for floats or [0..255] for integers).\n",
      "Clipping input data to the valid range for imshow with RGB data ([0..1] for floats or [0..255] for integers).\n",
      "Clipping input data to the valid range for imshow with RGB data ([0..1] for floats or [0..255] for integers).\n",
      "Clipping input data to the valid range for imshow with RGB data ([0..1] for floats or [0..255] for integers).\n",
      "Clipping input data to the valid range for imshow with RGB data ([0..1] for floats or [0..255] for integers).\n",
      "Clipping input data to the valid range for imshow with RGB data ([0..1] for floats or [0..255] for integers).\n"
     ]
    },
    {
     "data": {
      "text/plain": "<Figure size 800x300 with 10 Axes>",
      "image/png": "[encoded data removed]"
     },
     "metadata": {},
     "output_type": "display_data"
    }
   ],
   "source": [
    "fig = plt.figure(figsize=(8,3))\n",
    "for i in range(0):\n",
    "    ax = fig.add_subplot(2, 5, 1 + i, xticks=[], yticks=[])\n",
    "    plt.imshow(img_list[i].permute(1,2,0))\n",
    "plt.show()"
   ],
   "metadata": {
    "collapsed": false
   }
  },
  {
   "cell_type": "code",
   "execution_count": 22,
   "outputs": [],
   "source": [
    "from models.TextureReconstructionModule import ConvUp,ConvDown\n",
    "A = ConvUp(3,2)\n",
    "B = ConvDown(3,2)"
   ],
   "metadata": {
    "collapsed": false
   }
  },
  {
   "cell_type": "code",
   "execution_count": 41,
   "outputs": [
    {
     "data": {
      "text/plain": "tensor([[[-1.0531e+00, -1.3072e+00,  ...,  4.2339e-01,  3.5989e-01],\n         [-1.7358e+00, -1.9899e+00,  ..., -1.0054e-01, -5.2909e-02],\n         ...,\n         [ 8.6794e-01,  7.5681e-01,  ..., -4.4983e-01, -6.7210e-01],\n         [ 8.2031e-01,  6.7742e-01,  ...,  4.0752e-01, -3.7033e-02]],\n\n        [[-9.8219e-01, -1.2399e+00,  ...,  3.2427e-02,  1.6322e-02],\n         [-1.6586e+00, -1.9807e+00,  ..., -6.4398e-01, -5.7956e-01],\n         ...,\n         [ 2.5790e-01,  2.1737e-04,  ..., -9.8219e-01, -1.1271e+00],\n         [ 3.3842e-01,  9.6848e-02,  ..., -8.0308e-02, -4.9904e-01]],\n\n        [[-7.6354e-01, -1.0334e+00,  ..., -1.7890e-01, -1.6391e-01],\n         [-1.4081e+00, -1.7080e+00,  ..., -9.5842e-01, -8.5348e-01],\n         ...,\n         [-2.6884e-01, -1.0783e+00,  ..., -1.1983e+00, -1.1983e+00],\n         [ 3.0971e-02, -2.9882e-01,  ..., -4.4873e-01, -6.2862e-01]]])"
     },
     "execution_count": 41,
     "metadata": {},
     "output_type": "execute_result"
    }
   ],
   "source": [
    "img_list[0]"
   ],
   "metadata": {
    "collapsed": false
   }
  },
  {
   "cell_type": "code",
   "execution_count": 42,
   "outputs": [
    {
     "data": {
      "text/plain": "tensor([[[0.0331, 0.0332,  ..., 0.0365, 0.0251],\n         [0.0391, 0.0474,  ..., 0.0437, 0.0334],\n         ...,\n         [0.0380, 0.0421,  ..., 0.0400, 0.0268],\n         [0.0293, 0.0385,  ..., 0.0340, 0.0307]],\n\n        [[0.0507, 0.0422,  ..., 0.0373, 0.0358],\n         [0.0457, 0.0410,  ..., 0.0343, 0.0299],\n         ...,\n         [0.0457, 0.0346,  ..., 0.0316, 0.0285],\n         [0.0394, 0.0386,  ..., 0.0369, 0.0303]],\n\n        [[0.0147, 0.0182,  ..., 0.0122, 0.0251],\n         [0.0170, 0.0173,  ..., 0.0100, 0.0273],\n         ...,\n         [0.0143, 0.0080,  ..., 0.0114, 0.0232],\n         [0.0213, 0.0181,  ..., 0.0210, 0.0247]]], grad_fn=<SelectBackward0>)"
     },
     "execution_count": 42,
     "metadata": {},
     "output_type": "execute_result"
    }
   ],
   "source": [
    "\n",
    "out = B(img_list)\n",
    "out = A(out)\n",
    "out.shape\n",
    "out[1]"
   ],
   "metadata": {
    "collapsed": false
   }
  },
  {
   "cell_type": "code",
   "execution_count": 38,
   "outputs": [
    {
     "data": {
      "text/plain": "<Figure size 800x300 with 10 Axes>",
      "image/png": "[encoded data removed]"
     },
     "metadata": {},
     "output_type": "display_data"
    }
   ],
   "source": [
    "show_list = out\n",
    "fig = plt.figure(figsize=(8,3))\n",
    "for i in range(10):\n",
    "    ax = fig.add_subplot(2, 5, 1 + i, xticks=[], yticks=[])\n",
    "    plt.imshow(show_list[i].permute(1,2,0).detach().numpy())\n",
    "plt.show()"
   ],
   "metadata": {
    "collapsed": false
   }
  },
  {
   "cell_type": "code",
   "execution_count": null,
   "outputs": [],
   "source": [],
   "metadata": {
    "collapsed": false
   }
  }
 ],
 "metadata": {
  "kernelspec": {
   "display_name": "Python 3",
   "language": "python",
   "name": "python3"
  },
  "language_info": {
   "codemirror_mode": {
    "name": "ipython",
    "version": 2
   },
   "file_extension": ".py",
   "mimetype": "text/x-python",
   "name": "python",
   "nbconvert_exporter": "python",
   "pygments_lexer": "ipython2",
   "version": "2.7.6"
  }
 },
 "nbformat": 4,
 "nbformat_minor": 0
}
