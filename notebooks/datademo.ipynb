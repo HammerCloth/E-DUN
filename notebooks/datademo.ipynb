{
 "cells": [
  {
   "cell_type": "code",
   "execution_count": 1,
   "metadata": {
    "collapsed": true
   },
   "outputs": [],
   "source": [
    "\n",
    "import os"
   ]
  },
  {
   "cell_type": "code",
   "execution_count": 4,
   "outputs": [
    {
     "name": "stdout",
     "output_type": "stream",
     "text": [
      "0005\n",
      "0006\n",
      "0007\n",
      "0008\n",
      "0009\n",
      "0010\n",
      "0011\n",
      "0012\n",
      "0013\n",
      "0014\n",
      "0015\n",
      "0016\n",
      "0017\n",
      "0018\n",
      "0019\n",
      "0020\n",
      "0021\n",
      "0022\n",
      "0023\n",
      "0024\n",
      "0025\n",
      "0026\n",
      "0027\n",
      "0028\n",
      "0029\n",
      "0030\n",
      "0031\n",
      "0032\n",
      "0033\n",
      "0034\n",
      "0035\n",
      "0036\n",
      "0037\n",
      "0038\n",
      "0039\n",
      "0040\n",
      "0041\n",
      "0042\n",
      "0043\n",
      "0044\n",
      "0045\n",
      "0046\n",
      "0047\n",
      "0048\n",
      "0049\n",
      "0050\n",
      "0051\n",
      "0052\n",
      "0053\n",
      "0054\n",
      "0055\n",
      "0056\n",
      "0057\n",
      "0058\n",
      "0059\n",
      "0060\n",
      "0061\n",
      "0062\n",
      "0063\n",
      "0064\n",
      "0065\n",
      "0066\n",
      "0067\n",
      "0068\n",
      "0069\n",
      "0070\n",
      "0071\n",
      "0072\n",
      "0073\n",
      "0074\n",
      "0075\n",
      "0076\n",
      "0077\n",
      "0078\n",
      "0079\n",
      "0080\n",
      "0081\n",
      "0082\n",
      "0083\n",
      "0084\n",
      "0085\n",
      "0086\n",
      "0087\n",
      "0088\n",
      "0089\n",
      "0090\n",
      "0091\n",
      "0092\n",
      "0093\n",
      "0094\n",
      "0095\n",
      "0096\n",
      "0097\n",
      "0098\n",
      "0099\n",
      "0100\n"
     ]
    }
   ],
   "source": [
    "idx_begin = 4\n",
    "idx_end = 100\n",
    "\n",
    "for i in range(idx_begin + 1, idx_end + 1):\n",
    "    filename = '{:0>4}'.format(i)\n",
    "    print(filename)\n",
    "\n"
   ],
   "metadata": {
    "collapsed": false
   }
  },
  {
   "cell_type": "code",
   "execution_count": null,
   "outputs": [],
   "source": [],
   "metadata": {
    "collapsed": false
   }
  }
 ],
 "metadata": {
  "kernelspec": {
   "display_name": "Python 3",
   "language": "python",
   "name": "python3"
  },
  "language_info": {
   "codemirror_mode": {
    "name": "ipython",
    "version": 2
   },
   "file_extension": ".py",
   "mimetype": "text/x-python",
   "name": "python",
   "nbconvert_exporter": "python",
   "pygments_lexer": "ipython2",
   "version": "2.7.6"
  }
 },
 "nbformat": 4,
 "nbformat_minor": 0
}
