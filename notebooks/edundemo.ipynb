{
 "cells": [
  {
   "cell_type": "code",
   "execution_count": 16,
   "metadata": {
    "collapsed": true
   },
   "outputs": [],
   "source": []
  },
  {
   "cell_type": "code",
   "execution_count": 17,
   "outputs": [],
   "source": [
    "from models.e_dun import E_DUN"
   ],
   "metadata": {
    "collapsed": false
   }
  },
  {
   "cell_type": "code",
   "execution_count": 22,
   "outputs": [],
   "source": [
    "a = E_DUN(args)"
   ],
   "metadata": {
    "collapsed": false
   }
  },
  {
   "cell_type": "code",
   "execution_count": 14,
   "outputs": [],
   "source": [
    "class test:\n",
    "    def __init__(self):\n",
    "        self.n_colors = 3\n",
    "        self.scale = [2]\n",
    "        self.patch_size = 2\n",
    "        self.batch_size = 1\n",
    "        self.n_GPUs = 1"
   ],
   "metadata": {
    "collapsed": false
   }
  },
  {
   "cell_type": "code",
   "execution_count": 15,
   "outputs": [],
   "source": [
    "args = test()"
   ],
   "metadata": {
    "collapsed": false
   }
  },
  {
   "cell_type": "code",
   "execution_count": 16,
   "outputs": [
    {
     "data": {
      "text/plain": "<__main__.test at 0x11f86e8e0>"
     },
     "execution_count": 16,
     "metadata": {},
     "output_type": "execute_result"
    }
   ],
   "source": [
    "args"
   ],
   "metadata": {
    "collapsed": false
   }
  },
  {
   "cell_type": "code",
   "execution_count": 19,
   "outputs": [],
   "source": [
    "import torch"
   ],
   "metadata": {
    "collapsed": false
   }
  },
  {
   "cell_type": "code",
   "execution_count": 20,
   "outputs": [],
   "source": [
    "est = torch.ones(1,3,40,40)"
   ],
   "metadata": {
    "collapsed": false
   }
  },
  {
   "cell_type": "code",
   "execution_count": 21,
   "outputs": [
    {
     "data": {
      "text/plain": "tensor([[[[1., 1., 1.,  ..., 1., 1., 1.],\n          [1., 1., 1.,  ..., 1., 1., 1.],\n          [1., 1., 1.,  ..., 1., 1., 1.],\n          ...,\n          [1., 1., 1.,  ..., 1., 1., 1.],\n          [1., 1., 1.,  ..., 1., 1., 1.],\n          [1., 1., 1.,  ..., 1., 1., 1.]],\n\n         [[1., 1., 1.,  ..., 1., 1., 1.],\n          [1., 1., 1.,  ..., 1., 1., 1.],\n          [1., 1., 1.,  ..., 1., 1., 1.],\n          ...,\n          [1., 1., 1.,  ..., 1., 1., 1.],\n          [1., 1., 1.,  ..., 1., 1., 1.],\n          [1., 1., 1.,  ..., 1., 1., 1.]],\n\n         [[1., 1., 1.,  ..., 1., 1., 1.],\n          [1., 1., 1.,  ..., 1., 1., 1.],\n          [1., 1., 1.,  ..., 1., 1., 1.],\n          ...,\n          [1., 1., 1.,  ..., 1., 1., 1.],\n          [1., 1., 1.,  ..., 1., 1., 1.],\n          [1., 1., 1.,  ..., 1., 1., 1.]]]])"
     },
     "execution_count": 21,
     "metadata": {},
     "output_type": "execute_result"
    }
   ],
   "source": [
    "est"
   ],
   "metadata": {
    "collapsed": false
   }
  },
  {
   "cell_type": "code",
   "execution_count": 24,
   "outputs": [
    {
     "data": {
      "text/plain": "tensor([[[[ 7.0677e+07,  5.8690e+07,  4.6343e+07,  ...,  4.6343e+07,\n            5.8690e+07,  7.0677e+07],\n          [ 5.8690e+07,  2.9979e-01, -8.8841e+02,  ..., -8.7752e+02,\n            3.5242e+00,  5.8690e+07],\n          [ 4.6343e+07, -8.8716e+02, -8.4008e+01,  ..., -6.2478e+01,\n           -8.8669e+02,  4.6343e+07],\n          ...,\n          [ 4.6343e+07, -8.8079e+02, -8.0600e+01,  ..., -6.6172e+01,\n           -8.8536e+02,  4.6343e+07],\n          [ 5.8690e+07, -8.2194e+00, -8.8609e+02,  ..., -8.8141e+02,\n           -3.9474e+00,  5.8690e+07],\n          [ 7.0677e+07,  5.8690e+07,  4.6343e+07,  ...,  4.6343e+07,\n            5.8690e+07,  7.0677e+07]],\n\n         [[ 7.0677e+07,  5.8690e+07,  4.6343e+07,  ...,  4.6343e+07,\n            5.8690e+07,  7.0677e+07],\n          [ 5.8690e+07,  1.2334e+01, -8.8551e+02,  ..., -8.8370e+02,\n           -3.0936e+00,  5.8690e+07],\n          [ 4.6343e+07, -8.8039e+02, -7.3338e+01,  ..., -7.8875e+01,\n           -8.8630e+02,  4.6343e+07],\n          ...,\n          [ 4.6343e+07, -8.8053e+02, -6.4503e+01,  ..., -7.6307e+01,\n           -8.8523e+02,  4.6343e+07],\n          [ 5.8690e+07,  2.4372e+00, -8.7684e+02,  ..., -8.7327e+02,\n            4.2066e+00,  5.8690e+07],\n          [ 7.0677e+07,  5.8690e+07,  4.6343e+07,  ...,  4.6343e+07,\n            5.8690e+07,  7.0677e+07]],\n\n         [[ 7.0677e+07,  5.8690e+07,  4.6343e+07,  ...,  4.6343e+07,\n            5.8690e+07,  7.0677e+07],\n          [ 5.8690e+07, -1.9765e+00, -8.8441e+02,  ..., -8.8901e+02,\n            5.8862e+00,  5.8690e+07],\n          [ 4.6343e+07, -8.7299e+02, -7.3000e+01,  ..., -7.5243e+01,\n           -8.7977e+02,  4.6343e+07],\n          ...,\n          [ 4.6343e+07, -8.8810e+02, -6.9068e+01,  ..., -7.8395e+01,\n           -8.7870e+02,  4.6343e+07],\n          [ 5.8690e+07,  1.0804e+01, -8.8124e+02,  ..., -8.9060e+02,\n           -4.8044e-01,  5.8690e+07],\n          [ 7.0677e+07,  5.8690e+07,  4.6343e+07,  ...,  4.6343e+07,\n            5.8690e+07,  7.0677e+07]]]], grad_fn=<AddBackward0>)"
     },
     "execution_count": 24,
     "metadata": {},
     "output_type": "execute_result"
    }
   ],
   "source": [
    "a.eval()\n",
    "a(est)"
   ],
   "metadata": {
    "collapsed": false
   }
  },
  {
   "cell_type": "code",
   "execution_count": null,
   "outputs": [],
   "source": [],
   "metadata": {
    "collapsed": false
   }
  }
 ],
 "metadata": {
  "kernelspec": {
   "display_name": "Python 3",
   "language": "python",
   "name": "python3"
  },
  "language_info": {
   "codemirror_mode": {
    "name": "ipython",
    "version": 2
   },
   "file_extension": ".py",
   "mimetype": "text/x-python",
   "name": "python",
   "nbconvert_exporter": "python",
   "pygments_lexer": "ipython2",
   "version": "2.7.6"
  }
 },
 "nbformat": 4,
 "nbformat_minor": 0
}
